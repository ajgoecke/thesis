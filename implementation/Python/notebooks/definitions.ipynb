{
 "cells": [
  {
   "cell_type": "markdown",
   "id": "da9d0c80-e709-43a4-bb78-d73b173ecbf1",
   "metadata": {
    "tags": []
   },
   "source": [
    "# Definition Phrasing"
   ]
  },
  {
   "cell_type": "markdown",
   "id": "e44903fa-bcd5-473d-8fab-a6057f1fafca",
   "metadata": {},
   "source": [
    "## 1. Create/ Load Definitiontexts\n",
    "\n",
    "Todo:\n",
    "- phrase definitions for each main concept\n",
    "- "
   ]
  },
  {
   "cell_type": "code",
   "execution_count": null,
   "id": "d48efd7d-d6ea-4c89-8af8-e851e915fb3b",
   "metadata": {},
   "outputs": [],
   "source": []
  },
  {
   "cell_type": "markdown",
   "id": "8e7cfe3a-86aa-42fd-bea9-86183d34795e",
   "metadata": {},
   "source": [
    "## 2. Create Placeholders"
   ]
  },
  {
   "cell_type": "markdown",
   "id": "86289cb1-aacf-45ea-be44-d80d8d7118c5",
   "metadata": {},
   "source": [
    "## 3. Fill Placeholders"
   ]
  },
  {
   "cell_type": "code",
   "execution_count": null,
   "id": "171001bd-fe5f-47a2-ab42-58052c0aaef4",
   "metadata": {},
   "outputs": [],
   "source": []
  }
 ],
 "metadata": {
  "kernelspec": {
   "display_name": "Python 3 (ipykernel)",
   "language": "python",
   "name": "python3"
  },
  "language_info": {
   "codemirror_mode": {
    "name": "ipython",
    "version": 3
   },
   "file_extension": ".py",
   "mimetype": "text/x-python",
   "name": "python",
   "nbconvert_exporter": "python",
   "pygments_lexer": "ipython3",
   "version": "3.9.7"
  }
 },
 "nbformat": 4,
 "nbformat_minor": 5
}
