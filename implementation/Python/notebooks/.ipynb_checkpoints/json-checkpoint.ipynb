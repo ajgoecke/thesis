{
 "cells": [
  {
   "cell_type": "code",
   "execution_count": 31,
   "id": "d737f1a6-7bf0-42ae-a335-b0a45647b40f",
   "metadata": {},
   "outputs": [],
   "source": [
    "import json\n",
    "import requests\n",
    "import pandas as pd"
   ]
  },
  {
   "cell_type": "code",
   "execution_count": 13,
   "id": "3cc3889e-118d-407f-a72c-354b9d7adaba",
   "metadata": {},
   "outputs": [],
   "source": [
    "response = requests.get(\"http://www.klimadiskurs.info/download/json\")\n",
    "glossary = json.loads(response.text)"
   ]
  },
  {
   "cell_type": "code",
   "execution_count": 3,
   "id": "d44818a4-b771-4285-86c0-7baf98dc65ec",
   "metadata": {},
   "outputs": [],
   "source": [
    "with open('../files/glossar.json') as f:\n",
    "    data = json.load(f)\n",
    "\n",
    "#print(data)"
   ]
  },
  {
   "cell_type": "code",
   "execution_count": null,
   "id": "53be3063-6a2a-44a1-9961-82b942b43516",
   "metadata": {},
   "outputs": [],
   "source": [
    "compounds = pd.read_csv(\"../output/compounds_full.csv\")"
   ]
  },
  {
   "cell_type": "code",
   "execution_count": 29,
   "id": "b0fc2572-ae54-4634-b93b-915556aba5bd",
   "metadata": {},
   "outputs": [
    {
     "data": {
      "text/plain": [
       "{'term': 'Klimaabzockerei',\n",
       " 'id': 1,\n",
       " 'definition': '',\n",
       " 'sources': [],\n",
       " 'related': [],\n",
       " 'spellings': ['Klimaabzockerei', 'Klima-Abzockerei'],\n",
       " 'examples': ['Ganz klar, dass einige Wirtschaftszweige und einige Gruppierungen mit der Klima-Abzockerei viel Geld verdienen'],\n",
       " 'association': [0]}"
      ]
     },
     "execution_count": 29,
     "metadata": {},
     "output_type": "execute_result"
    }
   ],
   "source": [
    "glossary[\"Klimaabzockerei\"]#[\"definition\"]"
   ]
  },
  {
   "cell_type": "code",
   "execution_count": 34,
   "id": "bcc47fac-cf13-48bb-a686-cba356378cc5",
   "metadata": {},
   "outputs": [
    {
     "data": {
      "text/plain": [
       "''"
      ]
     },
     "execution_count": 34,
     "metadata": {},
     "output_type": "execute_result"
    }
   ],
   "source": [
    "glossary[\"Klimaabzockerei\"][\"definition\"] \n",
    "#print(glossary[compound][\"definition\"])"
   ]
  },
  {
   "cell_type": "code",
   "execution_count": 32,
   "id": "2e29fd02-3cfa-419e-ade3-5e714469818f",
   "metadata": {},
   "outputs": [],
   "source": []
  },
  {
   "cell_type": "code",
   "execution_count": null,
   "id": "0d22392a-7279-4a8f-9d01-be21d30c02b6",
   "metadata": {},
   "outputs": [],
   "source": [
    "idx = compounds.index[compounds['original'] == term][0]"
   ]
  },
  {
   "cell_type": "code",
   "execution_count": 33,
   "id": "a658fdfd-3786-41e9-9e83-c8d7fed265db",
   "metadata": {},
   "outputs": [],
   "source": [
    "def add_definitions(json):\n",
    "    \n",
    "    for term in json:\n",
    "\n",
    "        # retrieve index of term in data frame \n",
    "        idx = compounds.index[compounds['original'] == term][0]\n",
    "\n",
    "        # retrieve definition from dataframe \n",
    "        definition = compounds['definition'].iloc[idx]\n",
    "\n",
    "        # add final definitions from data frame \n",
    "        json[term][\"definition\"] = definition\n",
    "\n",
    "    return json"
   ]
  },
  {
   "cell_type": "code",
   "execution_count": null,
   "id": "716f15d7-fadf-40b6-8374-df3aa3f5c272",
   "metadata": {},
   "outputs": [],
   "source": [
    "# saving to json file\n",
    "with open(\"glossary_new.json\", \"w\") as outfile:\n",
    "    outfile.write(glossary)"
   ]
  }
 ],
 "metadata": {
  "kernelspec": {
   "display_name": "Python 3 (ipykernel)",
   "language": "python",
   "name": "python3"
  },
  "language_info": {
   "codemirror_mode": {
    "name": "ipython",
    "version": 3
   },
   "file_extension": ".py",
   "mimetype": "text/x-python",
   "name": "python",
   "nbconvert_exporter": "python",
   "pygments_lexer": "ipython3",
   "version": "3.9.7"
  }
 },
 "nbformat": 4,
 "nbformat_minor": 5
}
